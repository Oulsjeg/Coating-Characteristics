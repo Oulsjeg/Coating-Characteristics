{
  "nbformat": 4,
  "nbformat_minor": 0,
  "metadata": {
    "colab": {
      "name": "CoatingChar.ipynb",
      "provenance": []
    },
    "kernelspec": {
      "name": "python3",
      "display_name": "Python 3"
    },
    "language_info": {
      "name": "python"
    }
  },
  "cells": [
    {
      "cell_type": "code",
      "execution_count": 34,
      "metadata": {
        "colab": {
          "base_uri": "https://localhost:8080/"
        },
        "id": "KMLRohHHg9q0",
        "outputId": "4277bf91-a5cc-42b8-b5a6-89f336870179"
      },
      "outputs": [
        {
          "output_type": "stream",
          "name": "stdout",
          "text": [
            "Requirement already satisfied: scikit-multilearn in /usr/local/lib/python3.7/dist-packages (0.2.0)\n"
          ]
        }
      ],
      "source": [
        "import pandas as pd\n",
        "import numpy as np\n",
        "from sklearn.metrics import r2_score,mean_squared_error,mean_absolute_error\n",
        "from sklearn.model_selection import train_test_split\n",
        "from sklearn.ensemble import RandomForestRegressor\n",
        "from numpy import loadtxt\n",
        "from sklearn.ensemble import GradientBoostingRegressor\n",
        "from sklearn.neural_network import MLPRegressor\n",
        "from sklearn.datasets import make_regression\n",
        "from sklearn.linear_model import LinearRegression\n",
        "from sklearn.preprocessing import StandardScaler  \n",
        "!pip install scikit-multilearn\n",
        "from skmultilearn.model_selection import iterative_train_test_split\n",
        "from warnings import filterwarnings\n",
        "import seaborn as sns\n",
        "from sklearn.metrics import accuracy_score\n",
        "filterwarnings('ignore')\n",
        "from sklearn.model_selection import train_test_split\n",
        "import matplotlib as plt"
      ]
    },
    {
      "cell_type": "code",
      "source": [
        "features = pd.read_csv('/content/RegData/train.csv')\n"
      ],
      "metadata": {
        "id": "S1p6fF7ojBnp"
      },
      "execution_count": 35,
      "outputs": []
    },
    {
      "cell_type": "code",
      "source": [
        "labels=features.drop(['Grit','Alcohol','Water','TiO_2','Plasma Power','Standoff','Nozzle Dia'], axis = 1)\n"
      ],
      "metadata": {
        "id": "zSLyZA9vjPD9"
      },
      "execution_count": 36,
      "outputs": []
    },
    {
      "cell_type": "code",
      "source": [
        "features= features.drop(['WCA','SA'], axis = 1)\n"
      ],
      "metadata": {
        "id": "CFHBuD5UjPyN"
      },
      "execution_count": 37,
      "outputs": []
    },
    {
      "cell_type": "code",
      "source": [
        "train_features, test_features, train_labels, test_labels = train_test_split(features, \n",
        "                                                                            labels, \n",
        "                                                                            test_size = 0.2, \n",
        "                                                                            random_state = 42)\n"
      ],
      "metadata": {
        "id": "lrTKFqYmjUFH"
      },
      "execution_count": 38,
      "outputs": []
    },
    {
      "cell_type": "code",
      "source": [
        "paramrf={'bootstrap': True,\n",
        "'ccp_alpha': 0.0,\n",
        "'criterion': 'mse',\n",
        "'max_depth': None,\n",
        "'max_features': 'auto',\n",
        "'max_leaf_nodes': None,\n",
        "'max_samples': None,\n",
        "'min_impurity_decrease': 0.0,\n",
        "# 'min_impurity_split': None,\n",
        "'min_samples_leaf': 1,\n",
        "'min_samples_split': 2,\n",
        "'min_weight_fraction_leaf': 0.0,\n",
        "'n_estimators': 1000, ##The number of trees in the forest.\n",
        "'n_jobs': None,\n",
        "'oob_score': False,\n",
        "'random_state': 42,\n",
        "'verbose': 0,\n",
        "'warm_start': False}\n",
        "\n",
        "\n",
        "rf = RandomForestRegressor(**paramrf) #SVR()\n",
        "rf.fit(train_features, train_labels)\n",
        "predictions_rf = rf.predict(test_features)\n",
        "R2_rf=r2_score(test_labels, predictions_rf)\n",
        "errors_rf=abs(predictions_rf-test_labels)\n",
        "# print(predictions_rf)\n",
        "print('Mean Absolute Error cgb:', round(np.mean(errors_rf), 2), 'degrees.')\n",
        "print('R2 randomforest score: ', R2_rf)"
      ],
      "metadata": {
        "colab": {
          "base_uri": "https://localhost:8080/"
        },
        "id": "VJJn5UT3jltp",
        "outputId": "93df36e5-9b49-41b2-ab03-af22a6b3e487"
      },
      "execution_count": 39,
      "outputs": [
        {
          "output_type": "stream",
          "name": "stdout",
          "text": [
            "Mean Absolute Error cgb: SA     1.72\n",
            "WCA    2.60\n",
            "dtype: float64 degrees.\n",
            "R2 randomforest score:  0.8811433056747929\n"
          ]
        }
      ]
    },
    {
      "cell_type": "code",
      "source": [
        "Grit = 1.5 #@param [3.5, 2.5, 1.5] {type:\"raw\"}\n",
        "# print(Grit)\n",
        "\n",
        "Alcohol_Solvent = True #@param {type:\"boolean\"}\n",
        "# print(Alcohol_Solvent)\n",
        "\n",
        "TiO2 = 10 #@param [10, 20] {type:\"raw\"}\n",
        "# print(TiO2)\n",
        "\n",
        "Plasma_Power= 36 #@param [25,36] {type:\"raw\"}\n",
        "# print(Plasma_Power)\n",
        "\n",
        "Standoff_Distance = 3.8 #@param {type:\"slider\", min:3, max:5, step:0.1}\n",
        "# print(Standoff_Distance)\n",
        "\n",
        "Nozzle_Diameter = 6.5 #@param {type:\"slider\", min:5, max:8, step:0.1}\n",
        "# print(Nozzle_Diameter)\n",
        "\n",
        "row=[Grit,Alcohol_Solvent, not Alcohol_Solvent, TiO2, Plasma_Power,\n",
        "     Standoff_Distance, Nozzle_Diameter]\n",
        "# print(row)\n",
        "# row = [3,1,0,10,25,5,8]\n",
        "yhat = rf.predict([row])\n",
        "print(yhat[0])"
      ],
      "metadata": {
        "colab": {
          "base_uri": "https://localhost:8080/"
        },
        "id": "t6Vn-VhAknvk",
        "outputId": "bba64181-122a-4f66-f705-ae90e1e51ae0"
      },
      "execution_count": 44,
      "outputs": [
        {
          "output_type": "stream",
          "name": "stdout",
          "text": [
            "[  8.7597 160.927 ]\n"
          ]
        }
      ]
    },
    {
      "cell_type": "code",
      "source": [
        "if (yhat[0][0])<6:\n",
        "  "
      ],
      "metadata": {
        "colab": {
          "base_uri": "https://localhost:8080/"
        },
        "id": "MjXF6DL2qysD",
        "outputId": "6e83a8ba-1ad2-43f2-be79-3bd53b3023de"
      },
      "execution_count": 45,
      "outputs": [
        {
          "output_type": "stream",
          "name": "stdout",
          "text": [
            "8.759700000000052\n"
          ]
        }
      ]
    },
    {
      "cell_type": "code",
      "source": [
        ""
      ],
      "metadata": {
        "id": "SyyaktQhj2Jd"
      },
      "execution_count": 41,
      "outputs": []
    }
  ]
}